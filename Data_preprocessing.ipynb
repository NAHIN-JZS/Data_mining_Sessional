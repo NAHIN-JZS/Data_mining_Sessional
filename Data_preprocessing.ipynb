{
  "nbformat": 4,
  "nbformat_minor": 0,
  "metadata": {
    "colab": {
      "provenance": [],
      "authorship_tag": "ABX9TyP6eATXVlQo2t5o5smYu3GU",
      "include_colab_link": true
    },
    "kernelspec": {
      "name": "python3",
      "display_name": "Python 3"
    },
    "language_info": {
      "name": "python"
    }
  },
  "cells": [
    {
      "cell_type": "markdown",
      "metadata": {
        "id": "view-in-github",
        "colab_type": "text"
      },
      "source": [
        "<a href=\"https://colab.research.google.com/github/NAHIN-JZS/Data_mining_Sessional/blob/main/Data_preprocessing.ipynb\" target=\"_parent\"><img src=\"https://colab.research.google.com/assets/colab-badge.svg\" alt=\"Open In Colab\"/></a>"
      ]
    },
    {
      "cell_type": "markdown",
      "source": [
        "#Introduction\n",
        "Welcome to the Data Preprocessing Techniques Lab! In this session, we will explore a range of essential data preprocessing techniques that are commonly used to clean, transform, and prepare data for analysis and modeling. We will use the \"Titanic Dataset,\" which contains passenger information from the Titanic, as our example dataset. Throughout this lab, you'll learn how to handle various challenges in real-world data and make it suitable for analysis.\n",
        "\n",
        "Let's dive into the world of data preprocessing!"
      ],
      "metadata": {
        "id": "RPXFuNohRnkn"
      }
    },
    {
      "cell_type": "markdown",
      "source": [
        "#1. Handling Missing Data\n",
        "Explanation:\n",
        "Missing data can distort analysis and modeling. In this section, we'll learn how to identify and handle missing values."
      ],
      "metadata": {
        "id": "YDDp_f1KRyBM"
      }
    },
    {
      "cell_type": "markdown",
      "source": [
        "#Lab Work:\n",
        "1. Load the Dataset\n",
        "\n",
        "2. Check for Missing Values\n",
        "\n",
        "3. Replace Missing Values with the median values\n",
        "\n",
        "4. Remove Rows with Missing Values\n",
        "\n",
        "5. Remove redundant columns\n"
      ],
      "metadata": {
        "id": "L1E534enR-oI"
      }
    },
    {
      "cell_type": "markdown",
      "source": [
        "#Solution\n"
      ],
      "metadata": {
        "id": "BO-gKhHPSYIG"
      }
    },
    {
      "cell_type": "markdown",
      "source": [
        "1. Use Pandas to load the Titanic dataset\n",
        "2. Use isna() to identify missing values in the dataset.\n",
        "3. Use the median value to fill missing values in the \"Age\" column.\n",
        "4. Use dropna() to remove rows with missing values in the \"Embarked\" column."
      ],
      "metadata": {
        "id": "hRuAJ0PDW4vY"
      }
    },
    {
      "cell_type": "code",
      "source": [
        "import pandas as pd\n",
        "\n",
        "# Load the Titanic dataset\n",
        "titanic_data = pd.read_csv('/content/train.csv')\n",
        "titanic_data.head()"
      ],
      "metadata": {
        "colab": {
          "base_uri": "https://localhost:8080/",
          "height": 250
        },
        "id": "19OaxxsUTc4x",
        "outputId": "ccc89550-953b-4022-91fd-514350f71ddd"
      },
      "execution_count": 31,
      "outputs": [
        {
          "output_type": "execute_result",
          "data": {
            "text/plain": [
              "   PassengerId  Survived  Pclass  \\\n",
              "0            1         0       3   \n",
              "1            2         1       1   \n",
              "2            3         1       3   \n",
              "3            4         1       1   \n",
              "4            5         0       3   \n",
              "\n",
              "                                                Name     Sex   Age  SibSp  \\\n",
              "0                            Braund, Mr. Owen Harris    male  22.0      1   \n",
              "1  Cumings, Mrs. John Bradley (Florence Briggs Th...  female  38.0      1   \n",
              "2                             Heikkinen, Miss. Laina  female  26.0      0   \n",
              "3       Futrelle, Mrs. Jacques Heath (Lily May Peel)  female  35.0      1   \n",
              "4                           Allen, Mr. William Henry    male  35.0      0   \n",
              "\n",
              "   Parch            Ticket     Fare Cabin Embarked  \n",
              "0      0         A/5 21171   7.2500   NaN        S  \n",
              "1      0          PC 17599  71.2833   C85        C  \n",
              "2      0  STON/O2. 3101282   7.9250   NaN        S  \n",
              "3      0            113803  53.1000  C123        S  \n",
              "4      0            373450   8.0500   NaN        S  "
            ],
            "text/html": [
              "\n",
              "\n",
              "  <div id=\"df-aa2e691b-b38c-41ae-aa5f-48becfb6cab4\">\n",
              "    <div class=\"colab-df-container\">\n",
              "      <div>\n",
              "<style scoped>\n",
              "    .dataframe tbody tr th:only-of-type {\n",
              "        vertical-align: middle;\n",
              "    }\n",
              "\n",
              "    .dataframe tbody tr th {\n",
              "        vertical-align: top;\n",
              "    }\n",
              "\n",
              "    .dataframe thead th {\n",
              "        text-align: right;\n",
              "    }\n",
              "</style>\n",
              "<table border=\"1\" class=\"dataframe\">\n",
              "  <thead>\n",
              "    <tr style=\"text-align: right;\">\n",
              "      <th></th>\n",
              "      <th>PassengerId</th>\n",
              "      <th>Survived</th>\n",
              "      <th>Pclass</th>\n",
              "      <th>Name</th>\n",
              "      <th>Sex</th>\n",
              "      <th>Age</th>\n",
              "      <th>SibSp</th>\n",
              "      <th>Parch</th>\n",
              "      <th>Ticket</th>\n",
              "      <th>Fare</th>\n",
              "      <th>Cabin</th>\n",
              "      <th>Embarked</th>\n",
              "    </tr>\n",
              "  </thead>\n",
              "  <tbody>\n",
              "    <tr>\n",
              "      <th>0</th>\n",
              "      <td>1</td>\n",
              "      <td>0</td>\n",
              "      <td>3</td>\n",
              "      <td>Braund, Mr. Owen Harris</td>\n",
              "      <td>male</td>\n",
              "      <td>22.0</td>\n",
              "      <td>1</td>\n",
              "      <td>0</td>\n",
              "      <td>A/5 21171</td>\n",
              "      <td>7.2500</td>\n",
              "      <td>NaN</td>\n",
              "      <td>S</td>\n",
              "    </tr>\n",
              "    <tr>\n",
              "      <th>1</th>\n",
              "      <td>2</td>\n",
              "      <td>1</td>\n",
              "      <td>1</td>\n",
              "      <td>Cumings, Mrs. John Bradley (Florence Briggs Th...</td>\n",
              "      <td>female</td>\n",
              "      <td>38.0</td>\n",
              "      <td>1</td>\n",
              "      <td>0</td>\n",
              "      <td>PC 17599</td>\n",
              "      <td>71.2833</td>\n",
              "      <td>C85</td>\n",
              "      <td>C</td>\n",
              "    </tr>\n",
              "    <tr>\n",
              "      <th>2</th>\n",
              "      <td>3</td>\n",
              "      <td>1</td>\n",
              "      <td>3</td>\n",
              "      <td>Heikkinen, Miss. Laina</td>\n",
              "      <td>female</td>\n",
              "      <td>26.0</td>\n",
              "      <td>0</td>\n",
              "      <td>0</td>\n",
              "      <td>STON/O2. 3101282</td>\n",
              "      <td>7.9250</td>\n",
              "      <td>NaN</td>\n",
              "      <td>S</td>\n",
              "    </tr>\n",
              "    <tr>\n",
              "      <th>3</th>\n",
              "      <td>4</td>\n",
              "      <td>1</td>\n",
              "      <td>1</td>\n",
              "      <td>Futrelle, Mrs. Jacques Heath (Lily May Peel)</td>\n",
              "      <td>female</td>\n",
              "      <td>35.0</td>\n",
              "      <td>1</td>\n",
              "      <td>0</td>\n",
              "      <td>113803</td>\n",
              "      <td>53.1000</td>\n",
              "      <td>C123</td>\n",
              "      <td>S</td>\n",
              "    </tr>\n",
              "    <tr>\n",
              "      <th>4</th>\n",
              "      <td>5</td>\n",
              "      <td>0</td>\n",
              "      <td>3</td>\n",
              "      <td>Allen, Mr. William Henry</td>\n",
              "      <td>male</td>\n",
              "      <td>35.0</td>\n",
              "      <td>0</td>\n",
              "      <td>0</td>\n",
              "      <td>373450</td>\n",
              "      <td>8.0500</td>\n",
              "      <td>NaN</td>\n",
              "      <td>S</td>\n",
              "    </tr>\n",
              "  </tbody>\n",
              "</table>\n",
              "</div>\n",
              "      <button class=\"colab-df-convert\" onclick=\"convertToInteractive('df-aa2e691b-b38c-41ae-aa5f-48becfb6cab4')\"\n",
              "              title=\"Convert this dataframe to an interactive table.\"\n",
              "              style=\"display:none;\">\n",
              "\n",
              "  <svg xmlns=\"http://www.w3.org/2000/svg\" height=\"24px\"viewBox=\"0 0 24 24\"\n",
              "       width=\"24px\">\n",
              "    <path d=\"M0 0h24v24H0V0z\" fill=\"none\"/>\n",
              "    <path d=\"M18.56 5.44l.94 2.06.94-2.06 2.06-.94-2.06-.94-.94-2.06-.94 2.06-2.06.94zm-11 1L8.5 8.5l.94-2.06 2.06-.94-2.06-.94L8.5 2.5l-.94 2.06-2.06.94zm10 10l.94 2.06.94-2.06 2.06-.94-2.06-.94-.94-2.06-.94 2.06-2.06.94z\"/><path d=\"M17.41 7.96l-1.37-1.37c-.4-.4-.92-.59-1.43-.59-.52 0-1.04.2-1.43.59L10.3 9.45l-7.72 7.72c-.78.78-.78 2.05 0 2.83L4 21.41c.39.39.9.59 1.41.59.51 0 1.02-.2 1.41-.59l7.78-7.78 2.81-2.81c.8-.78.8-2.07 0-2.86zM5.41 20L4 18.59l7.72-7.72 1.47 1.35L5.41 20z\"/>\n",
              "  </svg>\n",
              "      </button>\n",
              "\n",
              "\n",
              "\n",
              "    <div id=\"df-584197c7-4922-4b29-8ea1-42ddf262962f\">\n",
              "      <button class=\"colab-df-quickchart\" onclick=\"quickchart('df-584197c7-4922-4b29-8ea1-42ddf262962f')\"\n",
              "              title=\"Suggest charts.\"\n",
              "              style=\"display:none;\">\n",
              "\n",
              "<svg xmlns=\"http://www.w3.org/2000/svg\" height=\"24px\"viewBox=\"0 0 24 24\"\n",
              "     width=\"24px\">\n",
              "    <g>\n",
              "        <path d=\"M19 3H5c-1.1 0-2 .9-2 2v14c0 1.1.9 2 2 2h14c1.1 0 2-.9 2-2V5c0-1.1-.9-2-2-2zM9 17H7v-7h2v7zm4 0h-2V7h2v10zm4 0h-2v-4h2v4z\"/>\n",
              "    </g>\n",
              "</svg>\n",
              "      </button>\n",
              "    </div>\n",
              "\n",
              "<style>\n",
              "  .colab-df-quickchart {\n",
              "    background-color: #E8F0FE;\n",
              "    border: none;\n",
              "    border-radius: 50%;\n",
              "    cursor: pointer;\n",
              "    display: none;\n",
              "    fill: #1967D2;\n",
              "    height: 32px;\n",
              "    padding: 0 0 0 0;\n",
              "    width: 32px;\n",
              "  }\n",
              "\n",
              "  .colab-df-quickchart:hover {\n",
              "    background-color: #E2EBFA;\n",
              "    box-shadow: 0px 1px 2px rgba(60, 64, 67, 0.3), 0px 1px 3px 1px rgba(60, 64, 67, 0.15);\n",
              "    fill: #174EA6;\n",
              "  }\n",
              "\n",
              "  [theme=dark] .colab-df-quickchart {\n",
              "    background-color: #3B4455;\n",
              "    fill: #D2E3FC;\n",
              "  }\n",
              "\n",
              "  [theme=dark] .colab-df-quickchart:hover {\n",
              "    background-color: #434B5C;\n",
              "    box-shadow: 0px 1px 3px 1px rgba(0, 0, 0, 0.15);\n",
              "    filter: drop-shadow(0px 1px 2px rgba(0, 0, 0, 0.3));\n",
              "    fill: #FFFFFF;\n",
              "  }\n",
              "</style>\n",
              "\n",
              "    <script>\n",
              "      async function quickchart(key) {\n",
              "        const containerElement = document.querySelector('#' + key);\n",
              "        const charts = await google.colab.kernel.invokeFunction(\n",
              "            'suggestCharts', [key], {});\n",
              "      }\n",
              "    </script>\n",
              "\n",
              "      <script>\n",
              "\n",
              "function displayQuickchartButton(domScope) {\n",
              "  let quickchartButtonEl =\n",
              "    domScope.querySelector('#df-584197c7-4922-4b29-8ea1-42ddf262962f button.colab-df-quickchart');\n",
              "  quickchartButtonEl.style.display =\n",
              "    google.colab.kernel.accessAllowed ? 'block' : 'none';\n",
              "}\n",
              "\n",
              "        displayQuickchartButton(document);\n",
              "      </script>\n",
              "      <style>\n",
              "    .colab-df-container {\n",
              "      display:flex;\n",
              "      flex-wrap:wrap;\n",
              "      gap: 12px;\n",
              "    }\n",
              "\n",
              "    .colab-df-convert {\n",
              "      background-color: #E8F0FE;\n",
              "      border: none;\n",
              "      border-radius: 50%;\n",
              "      cursor: pointer;\n",
              "      display: none;\n",
              "      fill: #1967D2;\n",
              "      height: 32px;\n",
              "      padding: 0 0 0 0;\n",
              "      width: 32px;\n",
              "    }\n",
              "\n",
              "    .colab-df-convert:hover {\n",
              "      background-color: #E2EBFA;\n",
              "      box-shadow: 0px 1px 2px rgba(60, 64, 67, 0.3), 0px 1px 3px 1px rgba(60, 64, 67, 0.15);\n",
              "      fill: #174EA6;\n",
              "    }\n",
              "\n",
              "    [theme=dark] .colab-df-convert {\n",
              "      background-color: #3B4455;\n",
              "      fill: #D2E3FC;\n",
              "    }\n",
              "\n",
              "    [theme=dark] .colab-df-convert:hover {\n",
              "      background-color: #434B5C;\n",
              "      box-shadow: 0px 1px 3px 1px rgba(0, 0, 0, 0.15);\n",
              "      filter: drop-shadow(0px 1px 2px rgba(0, 0, 0, 0.3));\n",
              "      fill: #FFFFFF;\n",
              "    }\n",
              "  </style>\n",
              "\n",
              "      <script>\n",
              "        const buttonEl =\n",
              "          document.querySelector('#df-aa2e691b-b38c-41ae-aa5f-48becfb6cab4 button.colab-df-convert');\n",
              "        buttonEl.style.display =\n",
              "          google.colab.kernel.accessAllowed ? 'block' : 'none';\n",
              "\n",
              "        async function convertToInteractive(key) {\n",
              "          const element = document.querySelector('#df-aa2e691b-b38c-41ae-aa5f-48becfb6cab4');\n",
              "          const dataTable =\n",
              "            await google.colab.kernel.invokeFunction('convertToInteractive',\n",
              "                                                     [key], {});\n",
              "          if (!dataTable) return;\n",
              "\n",
              "          const docLinkHtml = 'Like what you see? Visit the ' +\n",
              "            '<a target=\"_blank\" href=https://colab.research.google.com/notebooks/data_table.ipynb>data table notebook</a>'\n",
              "            + ' to learn more about interactive tables.';\n",
              "          element.innerHTML = '';\n",
              "          dataTable['output_type'] = 'display_data';\n",
              "          await google.colab.output.renderOutput(dataTable, element);\n",
              "          const docLink = document.createElement('div');\n",
              "          docLink.innerHTML = docLinkHtml;\n",
              "          element.appendChild(docLink);\n",
              "        }\n",
              "      </script>\n",
              "    </div>\n",
              "  </div>\n"
            ]
          },
          "metadata": {},
          "execution_count": 31
        }
      ]
    },
    {
      "cell_type": "code",
      "source": [
        "titanic_data.nunique()\n",
        "#418 unique passengers"
      ],
      "metadata": {
        "colab": {
          "base_uri": "https://localhost:8080/"
        },
        "id": "vkZtDW2hZ0W1",
        "outputId": "a31823e4-4ff9-422f-be5e-edc0bd86a393"
      },
      "execution_count": 37,
      "outputs": [
        {
          "output_type": "execute_result",
          "data": {
            "text/plain": [
              "PassengerId    891\n",
              "Survived         2\n",
              "Pclass           3\n",
              "Name           891\n",
              "Sex              2\n",
              "Age             88\n",
              "SibSp            7\n",
              "Parch            7\n",
              "Ticket         681\n",
              "Fare           248\n",
              "Cabin          147\n",
              "Embarked         3\n",
              "dtype: int64"
            ]
          },
          "metadata": {},
          "execution_count": 37
        }
      ]
    },
    {
      "cell_type": "code",
      "source": [
        "(titanic_data['Age'] <18).sum()"
      ],
      "metadata": {
        "colab": {
          "base_uri": "https://localhost:8080/"
        },
        "id": "1_O3g4e3aFW7",
        "outputId": "373fabf0-77c3-4108-b564-7ccfd1ab3659"
      },
      "execution_count": 38,
      "outputs": [
        {
          "output_type": "execute_result",
          "data": {
            "text/plain": [
              "113"
            ]
          },
          "metadata": {},
          "execution_count": 38
        }
      ]
    },
    {
      "cell_type": "code",
      "source": [
        "import numpy as np\n",
        "#Categorize based on age group\n",
        "# 0-17 - Children\n",
        "# 18-39 - Youth\n",
        "# 40-59 - MiddleAged\n",
        "# 60+ - SeniorCitizens\n",
        "bins = [-np.inf,17, 39, 59, np.inf]\n",
        "labels = [\"Children\",\"Youth\",\"MiddleAged\",\"SeniorCitizens\"]\n",
        "titanic_data['AgeGrp'] = pd.cut(titanic_data['Age'], bins=bins, labels=labels)\n",
        "titanic_data['AgeGrp'].value_counts().values"
      ],
      "metadata": {
        "colab": {
          "base_uri": "https://localhost:8080/"
        },
        "id": "f9krg47haQrG",
        "outputId": "9568b744-c2df-4f97-85bb-c84239119430"
      },
      "execution_count": 40,
      "outputs": [
        {
          "output_type": "execute_result",
          "data": {
            "text/plain": [
              "array([438, 137, 113,  26])"
            ]
          },
          "metadata": {},
          "execution_count": 40
        }
      ]
    },
    {
      "cell_type": "code",
      "source": [
        "import matplotlib.pyplot as plt\n",
        "plt.figure(figsize=(7,7))\n",
        "plt.xlabel('Age Groups')\n",
        "plt.ylabel('Passengers')\n",
        "plt.yticks()\n",
        "plt.grid()\n",
        "plt.title('Passengers & their Age Groups')\n",
        "plt.bar(titanic_data['AgeGrp'].value_counts().keys(),titanic_data['AgeGrp'].value_counts(),color=['purple','blue','orange','magenta'])\n",
        "plt.show()"
      ],
      "metadata": {
        "colab": {
          "base_uri": "https://localhost:8080/",
          "height": 641
        },
        "id": "sFsOVtzXakP4",
        "outputId": "515827ec-976d-4fe7-9881-98159db47ad4"
      },
      "execution_count": 42,
      "outputs": [
        {
          "output_type": "display_data",
          "data": {
            "text/plain": [
              "<Figure size 700x700 with 1 Axes>"
            ],
            "image/png": "[encoded data removed]"
          },
          "metadata": {}
        }
      ]
    },
    {
      "cell_type": "code",
      "source": [
        "dead = titanic_data[titanic_data['Survived']==0]\n",
        "\n",
        "#Categorize based on age group for dead\n",
        "bins = [-np.inf,17, 39, 59, np.inf]\n",
        "labels = [\"Children\",\"Youth\",\"MiddleAged\",\"SeniorCitizens\"]\n",
        "dead['AgeGrp'] = pd.cut(dead['Age'], bins=bins, labels=labels)\n",
        "\n",
        "plt.figure(figsize=(7,7))\n",
        "plt.xlabel('Age Groups')\n",
        "plt.ylabel('Dead Passengers')\n",
        "plt.yticks()\n",
        "plt.grid()\n",
        "plt.title('Dead Passengers & their Age Groups')\n",
        "plt.bar(dead['AgeGrp'].value_counts().keys(),dead['AgeGrp'].value_counts(),color=['red','blue','magenta','green'])\n",
        "plt.show()"
      ],
      "metadata": {
        "colab": {
          "base_uri": "https://localhost:8080/",
          "height": 745
        },
        "id": "MoyYOdoXbeki",
        "outputId": "b2be512f-0420-4c02-c350-c506db59db4c"
      },
      "execution_count": 43,
      "outputs": [
        {
          "output_type": "stream",
          "name": "stderr",
          "text": [
            "<ipython-input-43-e979f257292a>:6: SettingWithCopyWarning: \n",
            "A value is trying to be set on a copy of a slice from a DataFrame.\n",
            "Try using .loc[row_indexer,col_indexer] = value instead\n",
            "\n",
            "See the caveats in the documentation: https://pandas.pydata.org/pandas-docs/stable/user_guide/indexing.html#returning-a-view-versus-a-copy\n",
            "  dead['AgeGrp'] = pd.cut(dead['Age'], bins=bins, labels=labels)\n"
          ]
        },
        {
          "output_type": "display_data",
          "data": {
            "text/plain": [
              "<Figure size 700x700 with 1 Axes>"
            ],
            "image/png": "[encoded data removed]"
          },
          "metadata": {}
        }
      ]
    },
    {
      "cell_type": "code",
      "source": [
        "plt.figure(figsize=(6,6))\n",
        "plt.title('Dead Passengers and their Towns')\n",
        "#shadow=True\n",
        "explode = (0, 0.1, 0)\n",
        "\n",
        "plt.pie(dead['Embarked'].value_counts(),labels=['Southampton','Cherbourg','Queenstown'], autopct ='%1.02f%%', colors=['pink','red','yellow'],explode=explode,shadow=True,startangle=90,labeldistance=0.6, pctdistance=0.9)\n",
        "plt.show()"
      ],
      "metadata": {
        "colab": {
          "base_uri": "https://localhost:8080/",
          "height": 521
        },
        "id": "ckc0a_JNbAbi",
        "outputId": "7583b554-eb9d-40ff-de13-1717a7e6ba5d"
      },
      "execution_count": 44,
      "outputs": [
        {
          "output_type": "display_data",
          "data": {
            "text/plain": [
              "<Figure size 600x600 with 1 Axes>"
            ],
            "image/png": "[encoded data removed]"
          },
          "metadata": {}
        }
      ]
    },
    {
      "cell_type": "markdown",
      "source": [
        "## Find out the age group and cities for survived"
      ],
      "metadata": {
        "id": "X_lVjKMlb0r3"
      }
    },
    {
      "cell_type": "code",
      "source": [
        "survived = titanic_data[titanic_data['Survived']==1]\n",
        "\n",
        "#Categorize based on age group for dead\n",
        "bins = [-np.inf,17, 39, 59, np.inf]\n",
        "labels = [\"Children\",\"Youth\",\"MiddleAged\",\"SeniorCitizens\"]\n",
        "survived['AgeGrp'] = pd.cut(survived['Age'], bins=bins, labels=labels)\n",
        "\n",
        "plt.figure(figsize=(7,7))\n",
        "plt.xlabel('Age Groups')\n",
        "plt.ylabel('Dead Passengers')\n",
        "plt.yticks()\n",
        "plt.grid()\n",
        "plt.title('Dead Passengers & their Age Groups')\n",
        "plt.bar(survived['AgeGrp'].value_counts().keys(),survived['AgeGrp'].value_counts(),color=['red','blue','magenta','green'])\n",
        "plt.show()"
      ],
      "metadata": {
        "colab": {
          "base_uri": "https://localhost:8080/",
          "height": 745
        },
        "id": "ky0W-Wxyb89G",
        "outputId": "4612aa3d-9e4b-4d7c-e15a-da48b55bb87e"
      },
      "execution_count": 45,
      "outputs": [
        {
          "output_type": "stream",
          "name": "stderr",
          "text": [
            "<ipython-input-45-31704c451150>:6: SettingWithCopyWarning: \n",
            "A value is trying to be set on a copy of a slice from a DataFrame.\n",
            "Try using .loc[row_indexer,col_indexer] = value instead\n",
            "\n",
            "See the caveats in the documentation: https://pandas.pydata.org/pandas-docs/stable/user_guide/indexing.html#returning-a-view-versus-a-copy\n",
            "  survived['AgeGrp'] = pd.cut(survived['Age'], bins=bins, labels=labels)\n"
          ]
        },
        {
          "output_type": "display_data",
          "data": {
            "text/plain": [
              "<Figure size 700x700 with 1 Axes>"
            ],
            "image/png": "[encoded data removed]"
          },
          "metadata": {}
        }
      ]
    },
    {
      "cell_type": "code",
      "source": [
        "plt.figure(figsize=(6,6))\n",
        "plt.title('Dead Passengers and their Towns')\n",
        "#shadow=True\n",
        "explode = (0, 0.1, 0)\n",
        "\n",
        "plt.pie(survived['Embarked'].value_counts(),labels=['Southampton','Cherbourg','Queenstown'], autopct ='%1.02f%%', colors=['pink','red','yellow'],explode=explode,shadow=True,startangle=90,labeldistance=0.6, pctdistance=0.9)\n",
        "plt.show()"
      ],
      "metadata": {
        "colab": {
          "base_uri": "https://localhost:8080/",
          "height": 521
        },
        "id": "Rg63lM6IcJSn",
        "outputId": "4e135056-5b7b-4080-f910-d74ab5d324fd"
      },
      "execution_count": 46,
      "outputs": [
        {
          "output_type": "display_data",
          "data": {
            "text/plain": [
              "<Figure size 600x600 with 1 Axes>"
            ],
            "image/png": "[encoded data removed]"
          },
          "metadata": {}
        }
      ]
    },
    {
      "cell_type": "markdown",
      "source": [
        "## Handling the missing values"
      ],
      "metadata": {
        "id": "866gYIU_cWFQ"
      }
    },
    {
      "cell_type": "code",
      "source": [
        "# Check for missing values\n",
        "missing_values = titanic_data.isna().sum()\n",
        "missing_values"
      ],
      "metadata": {
        "colab": {
          "base_uri": "https://localhost:8080/"
        },
        "id": "-vtMTkUGTfiB",
        "outputId": "a2173fdc-872a-4713-8ca8-b1e1705ebe3f"
      },
      "execution_count": 32,
      "outputs": [
        {
          "output_type": "execute_result",
          "data": {
            "text/plain": [
              "PassengerId      0\n",
              "Survived         0\n",
              "Pclass           0\n",
              "Name             0\n",
              "Sex              0\n",
              "Age            177\n",
              "SibSp            0\n",
              "Parch            0\n",
              "Ticket           0\n",
              "Fare             0\n",
              "Cabin          687\n",
              "Embarked         2\n",
              "dtype: int64"
            ]
          },
          "metadata": {},
          "execution_count": 32
        }
      ]
    },
    {
      "cell_type": "code",
      "source": [
        "# Replace missing values in \"Age\" column with median age\n",
        "median_age = titanic_data['Age'].median()\n",
        "titanic_data['Age'].fillna(median_age, inplace=True)\n",
        "titanic_data.isna().sum()"
      ],
      "metadata": {
        "colab": {
          "base_uri": "https://localhost:8080/"
        },
        "id": "0rEqrC9QUq6g",
        "outputId": "acf2f16c-f373-4e0e-e39f-86e3e8931e4c"
      },
      "execution_count": 24,
      "outputs": [
        {
          "output_type": "execute_result",
          "data": {
            "text/plain": [
              "PassengerId      0\n",
              "Survived         0\n",
              "Pclass           0\n",
              "Name             0\n",
              "Sex              0\n",
              "Age              0\n",
              "SibSp            0\n",
              "Parch            0\n",
              "Ticket           0\n",
              "Fare             0\n",
              "Cabin          687\n",
              "Embarked         2\n",
              "dtype: int64"
            ]
          },
          "metadata": {},
          "execution_count": 24
        }
      ]
    },
    {
      "cell_type": "code",
      "source": [
        "# Remove rows with missing values in \"Embarked\" column\n",
        "titanic_data.dropna(subset=['Embarked'], inplace=True)\n",
        "titanic_data.isna().sum()"
      ],
      "metadata": {
        "colab": {
          "base_uri": "https://localhost:8080/"
        },
        "id": "3zYEY0FJRxMM",
        "outputId": "1faa840b-6139-47fe-9282-1f8dab625a26"
      },
      "execution_count": 26,
      "outputs": [
        {
          "output_type": "execute_result",
          "data": {
            "text/plain": [
              "PassengerId      0\n",
              "Survived         0\n",
              "Pclass           0\n",
              "Name             0\n",
              "Sex              0\n",
              "Age              0\n",
              "SibSp            0\n",
              "Parch            0\n",
              "Ticket           0\n",
              "Fare             0\n",
              "Cabin          687\n",
              "Embarked         0\n",
              "dtype: int64"
            ]
          },
          "metadata": {},
          "execution_count": 26
        }
      ]
    },
    {
      "cell_type": "code",
      "execution_count": 28,
      "metadata": {
        "colab": {
          "base_uri": "https://localhost:8080/"
        },
        "id": "20SbkLgkINiy",
        "outputId": "03bef04c-747c-4f82-a067-88e8dc520973"
      },
      "outputs": [
        {
          "output_type": "execute_result",
          "data": {
            "text/plain": [
              "Survived    0\n",
              "Pclass      0\n",
              "Sex         0\n",
              "Age         0\n",
              "SibSp       0\n",
              "Parch       0\n",
              "Fare        0\n",
              "Embarked    0\n",
              "dtype: int64"
            ]
          },
          "metadata": {},
          "execution_count": 28
        }
      ],
      "source": [
        "titanic_data = titanic_data.drop('Cabin',axis=1)\n",
        "titanic_data = titanic_data.drop('Ticket',axis=1)\n",
        "# titanic_data = titanic_data.drop('Name',axis=1)\n",
        "# titanic_data = titanic_data.drop('PassengerId',axis=1)\n",
        "\n",
        "titanic_data = titanic_data.drop(['PassengerId','Name'],axis=1)\n",
        "titanic_data.isna().sum()"
      ]
    },
    {
      "cell_type": "code",
      "source": [
        "titanic_data.head()"
      ],
      "metadata": {
        "colab": {
          "base_uri": "https://localhost:8080/",
          "height": 206
        },
        "id": "64OGRVr5VaZk",
        "outputId": "09c0758d-dc9b-4458-b9e0-0bc3f9c9b027"
      },
      "execution_count": 29,
      "outputs": [
        {
          "output_type": "execute_result",
          "data": {
            "text/plain": [
              "   Survived  Pclass     Sex   Age  SibSp  Parch     Fare Embarked\n",
              "0         0       3    male  22.0      1      0   7.2500        S\n",
              "1         1       1  female  38.0      1      0  71.2833        C\n",
              "2         1       3  female  26.0      0      0   7.9250        S\n",
              "3         1       1  female  35.0      1      0  53.1000        S\n",
              "4         0       3    male  35.0      0      0   8.0500        S"
            ],
            "text/html": [
              "\n",
              "\n",
              "  <div id=\"df-8ad97e70-5964-47d0-91ce-a3d69c6563c6\">\n",
              "    <div class=\"colab-df-container\">\n",
              "      <div>\n",
              "<style scoped>\n",
              "    .dataframe tbody tr th:only-of-type {\n",
              "        vertical-align: middle;\n",
              "    }\n",
              "\n",
              "    .dataframe tbody tr th {\n",
              "        vertical-align: top;\n",
              "    }\n",
              "\n",
              "    .dataframe thead th {\n",
              "        text-align: right;\n",
              "    }\n",
              "</style>\n",
              "<table border=\"1\" class=\"dataframe\">\n",
              "  <thead>\n",
              "    <tr style=\"text-align: right;\">\n",
              "      <th></th>\n",
              "      <th>Survived</th>\n",
              "      <th>Pclass</th>\n",
              "      <th>Sex</th>\n",
              "      <th>Age</th>\n",
              "      <th>SibSp</th>\n",
              "      <th>Parch</th>\n",
              "      <th>Fare</th>\n",
              "      <th>Embarked</th>\n",
              "    </tr>\n",
              "  </thead>\n",
              "  <tbody>\n",
              "    <tr>\n",
              "      <th>0</th>\n",
              "      <td>0</td>\n",
              "      <td>3</td>\n",
              "      <td>male</td>\n",
              "      <td>22.0</td>\n",
              "      <td>1</td>\n",
              "      <td>0</td>\n",
              "      <td>7.2500</td>\n",
              "      <td>S</td>\n",
              "    </tr>\n",
              "    <tr>\n",
              "      <th>1</th>\n",
              "      <td>1</td>\n",
              "      <td>1</td>\n",
              "      <td>female</td>\n",
              "      <td>38.0</td>\n",
              "      <td>1</td>\n",
              "      <td>0</td>\n",
              "      <td>71.2833</td>\n",
              "      <td>C</td>\n",
              "    </tr>\n",
              "    <tr>\n",
              "      <th>2</th>\n",
              "      <td>1</td>\n",
              "      <td>3</td>\n",
              "      <td>female</td>\n",
              "      <td>26.0</td>\n",
              "      <td>0</td>\n",
              "      <td>0</td>\n",
              "      <td>7.9250</td>\n",
              "      <td>S</td>\n",
              "    </tr>\n",
              "    <tr>\n",
              "      <th>3</th>\n",
              "      <td>1</td>\n",
              "      <td>1</td>\n",
              "      <td>female</td>\n",
              "      <td>35.0</td>\n",
              "      <td>1</td>\n",
              "      <td>0</td>\n",
              "      <td>53.1000</td>\n",
              "      <td>S</td>\n",
              "    </tr>\n",
              "    <tr>\n",
              "      <th>4</th>\n",
              "      <td>0</td>\n",
              "      <td>3</td>\n",
              "      <td>male</td>\n",
              "      <td>35.0</td>\n",
              "      <td>0</td>\n",
              "      <td>0</td>\n",
              "      <td>8.0500</td>\n",
              "      <td>S</td>\n",
              "    </tr>\n",
              "  </tbody>\n",
              "</table>\n",
              "</div>\n",
              "      <button class=\"colab-df-convert\" onclick=\"convertToInteractive('df-8ad97e70-5964-47d0-91ce-a3d69c6563c6')\"\n",
              "              title=\"Convert this dataframe to an interactive table.\"\n",
              "              style=\"display:none;\">\n",
              "\n",
              "  <svg xmlns=\"http://www.w3.org/2000/svg\" height=\"24px\"viewBox=\"0 0 24 24\"\n",
              "       width=\"24px\">\n",
              "    <path d=\"M0 0h24v24H0V0z\" fill=\"none\"/>\n",
              "    <path d=\"M18.56 5.44l.94 2.06.94-2.06 2.06-.94-2.06-.94-.94-2.06-.94 2.06-2.06.94zm-11 1L8.5 8.5l.94-2.06 2.06-.94-2.06-.94L8.5 2.5l-.94 2.06-2.06.94zm10 10l.94 2.06.94-2.06 2.06-.94-2.06-.94-.94-2.06-.94 2.06-2.06.94z\"/><path d=\"M17.41 7.96l-1.37-1.37c-.4-.4-.92-.59-1.43-.59-.52 0-1.04.2-1.43.59L10.3 9.45l-7.72 7.72c-.78.78-.78 2.05 0 2.83L4 21.41c.39.39.9.59 1.41.59.51 0 1.02-.2 1.41-.59l7.78-7.78 2.81-2.81c.8-.78.8-2.07 0-2.86zM5.41 20L4 18.59l7.72-7.72 1.47 1.35L5.41 20z\"/>\n",
              "  </svg>\n",
              "      </button>\n",
              "\n",
              "\n",
              "\n",
              "    <div id=\"df-8b53ad57-c331-4d0e-8423-8e0c51ec8385\">\n",
              "      <button class=\"colab-df-quickchart\" onclick=\"quickchart('df-8b53ad57-c331-4d0e-8423-8e0c51ec8385')\"\n",
              "              title=\"Suggest charts.\"\n",
              "              style=\"display:none;\">\n",
              "\n",
              "<svg xmlns=\"http://www.w3.org/2000/svg\" height=\"24px\"viewBox=\"0 0 24 24\"\n",
              "     width=\"24px\">\n",
              "    <g>\n",
              "        <path d=\"M19 3H5c-1.1 0-2 .9-2 2v14c0 1.1.9 2 2 2h14c1.1 0 2-.9 2-2V5c0-1.1-.9-2-2-2zM9 17H7v-7h2v7zm4 0h-2V7h2v10zm4 0h-2v-4h2v4z\"/>\n",
              "    </g>\n",
              "</svg>\n",
              "      </button>\n",
              "    </div>\n",
              "\n",
              "<style>\n",
              "  .colab-df-quickchart {\n",
              "    background-color: #E8F0FE;\n",
              "    border: none;\n",
              "    border-radius: 50%;\n",
              "    cursor: pointer;\n",
              "    display: none;\n",
              "    fill: #1967D2;\n",
              "    height: 32px;\n",
              "    padding: 0 0 0 0;\n",
              "    width: 32px;\n",
              "  }\n",
              "\n",
              "  .colab-df-quickchart:hover {\n",
              "    background-color: #E2EBFA;\n",
              "    box-shadow: 0px 1px 2px rgba(60, 64, 67, 0.3), 0px 1px 3px 1px rgba(60, 64, 67, 0.15);\n",
              "    fill: #174EA6;\n",
              "  }\n",
              "\n",
              "  [theme=dark] .colab-df-quickchart {\n",
              "    background-color: #3B4455;\n",
              "    fill: #D2E3FC;\n",
              "  }\n",
              "\n",
              "  [theme=dark] .colab-df-quickchart:hover {\n",
              "    background-color: #434B5C;\n",
              "    box-shadow: 0px 1px 3px 1px rgba(0, 0, 0, 0.15);\n",
              "    filter: drop-shadow(0px 1px 2px rgba(0, 0, 0, 0.3));\n",
              "    fill: #FFFFFF;\n",
              "  }\n",
              "</style>\n",
              "\n",
              "    <script>\n",
              "      async function quickchart(key) {\n",
              "        const containerElement = document.querySelector('#' + key);\n",
              "        const charts = await google.colab.kernel.invokeFunction(\n",
              "            'suggestCharts', [key], {});\n",
              "      }\n",
              "    </script>\n",
              "\n",
              "      <script>\n",
              "\n",
              "function displayQuickchartButton(domScope) {\n",
              "  let quickchartButtonEl =\n",
              "    domScope.querySelector('#df-8b53ad57-c331-4d0e-8423-8e0c51ec8385 button.colab-df-quickchart');\n",
              "  quickchartButtonEl.style.display =\n",
              "    google.colab.kernel.accessAllowed ? 'block' : 'none';\n",
              "}\n",
              "\n",
              "        displayQuickchartButton(document);\n",
              "      </script>\n",
              "      <style>\n",
              "    .colab-df-container {\n",
              "      display:flex;\n",
              "      flex-wrap:wrap;\n",
              "      gap: 12px;\n",
              "    }\n",
              "\n",
              "    .colab-df-convert {\n",
              "      background-color: #E8F0FE;\n",
              "      border: none;\n",
              "      border-radius: 50%;\n",
              "      cursor: pointer;\n",
              "      display: none;\n",
              "      fill: #1967D2;\n",
              "      height: 32px;\n",
              "      padding: 0 0 0 0;\n",
              "      width: 32px;\n",
              "    }\n",
              "\n",
              "    .colab-df-convert:hover {\n",
              "      background-color: #E2EBFA;\n",
              "      box-shadow: 0px 1px 2px rgba(60, 64, 67, 0.3), 0px 1px 3px 1px rgba(60, 64, 67, 0.15);\n",
              "      fill: #174EA6;\n",
              "    }\n",
              "\n",
              "    [theme=dark] .colab-df-convert {\n",
              "      background-color: #3B4455;\n",
              "      fill: #D2E3FC;\n",
              "    }\n",
              "\n",
              "    [theme=dark] .colab-df-convert:hover {\n",
              "      background-color: #434B5C;\n",
              "      box-shadow: 0px 1px 3px 1px rgba(0, 0, 0, 0.15);\n",
              "      filter: drop-shadow(0px 1px 2px rgba(0, 0, 0, 0.3));\n",
              "      fill: #FFFFFF;\n",
              "    }\n",
              "  </style>\n",
              "\n",
              "      <script>\n",
              "        const buttonEl =\n",
              "          document.querySelector('#df-8ad97e70-5964-47d0-91ce-a3d69c6563c6 button.colab-df-convert');\n",
              "        buttonEl.style.display =\n",
              "          google.colab.kernel.accessAllowed ? 'block' : 'none';\n",
              "\n",
              "        async function convertToInteractive(key) {\n",
              "          const element = document.querySelector('#df-8ad97e70-5964-47d0-91ce-a3d69c6563c6');\n",
              "          const dataTable =\n",
              "            await google.colab.kernel.invokeFunction('convertToInteractive',\n",
              "                                                     [key], {});\n",
              "          if (!dataTable) return;\n",
              "\n",
              "          const docLinkHtml = 'Like what you see? Visit the ' +\n",
              "            '<a target=\"_blank\" href=https://colab.research.google.com/notebooks/data_table.ipynb>data table notebook</a>'\n",
              "            + ' to learn more about interactive tables.';\n",
              "          element.innerHTML = '';\n",
              "          dataTable['output_type'] = 'display_data';\n",
              "          await google.colab.output.renderOutput(dataTable, element);\n",
              "          const docLink = document.createElement('div');\n",
              "          docLink.innerHTML = docLinkHtml;\n",
              "          element.appendChild(docLink);\n",
              "        }\n",
              "      </script>\n",
              "    </div>\n",
              "  </div>\n"
            ]
          },
          "metadata": {},
          "execution_count": 29
        }
      ]
    },
    {
      "cell_type": "code",
      "source": [
        "titanic_data['Survived'].value_counts()"
      ],
      "metadata": {
        "colab": {
          "base_uri": "https://localhost:8080/"
        },
        "id": "_I8yfbKnYnHQ",
        "outputId": "057740a9-3f8f-4a67-db4d-dae80450b403"
      },
      "execution_count": 30,
      "outputs": [
        {
          "output_type": "execute_result",
          "data": {
            "text/plain": [
              "0    549\n",
              "1    340\n",
              "Name: Survived, dtype: int64"
            ]
          },
          "metadata": {},
          "execution_count": 30
        }
      ]
    },
    {
      "cell_type": "markdown",
      "source": [
        "# Encoding Categorical Variables\n",
        "Categorical variables need transformation for machine learning. We'll cover one-hot encoding and label encoding."
      ],
      "metadata": {
        "id": "cpvIn_bKW98p"
      }
    },
    {
      "cell_type": "markdown",
      "source": [
        "##get_dummies():\n",
        "The get_dummies() function is a feature in Pandas that performs one-hot encoding. One-hot encoding converts categorical variables into a binary matrix, where each unique category becomes a new binary column, representing the presence or absence of that category for each observation.\n",
        "\n",
        "get_dummies() creates new columns for each unique category in the categorical column, where a '1' indicates the presence of that category, and '0' indicates its absence. This transformation is beneficial when there is no ordinal relationship between categories, and each category is treated as an independent attribute."
      ],
      "metadata": {
        "id": "GlU1OkoxeBBO"
      }
    },
    {
      "cell_type": "code",
      "source": [
        "\n",
        "# df_train['Sex'] = df_train['Sex'].apply(lambda x : 1 if x == 'male' else 0)\n",
        "\n",
        "# One-Hot Encoding for \"Embarked\" column\n",
        "embarked_dummies = pd.get_dummies(titanic_data['Embarked'], prefix='Embarked')\n",
        "titanic_data = pd.concat([titanic_data, embarked_dummies], axis=1)\n"
      ],
      "metadata": {
        "id": "7IbKo1zaW88P"
      },
      "execution_count": 47,
      "outputs": []
    },
    {
      "cell_type": "markdown",
      "source": [
        "## LabelEncoder:\n",
        "The LabelEncoder is a utility class from the Scikit-learn library that is used to convert categorical values into numerical labels. It's particularly useful when dealing with categorical data that have an inherent ordinal relationship. An ordinal relationship implies that the categories have a meaningful order, such as \"low,\" \"medium,\" and \"high.\" Here's how LabelEncoder works:\n",
        "\n",
        "When you have a categorical column, such as \"Sex\" with values \"male\" and \"female,\" you can use LabelEncoder to transform these categorical values into numeric labels. It assigns a unique numerical label to each unique category in the column. This encoding is performed in such a way that the encoded values reflect the order of the original categories."
      ],
      "metadata": {
        "id": "IpHTob7Qd2v1"
      }
    },
    {
      "cell_type": "code",
      "source": [
        "from sklearn.preprocessing import LabelEncoder\n",
        "\n",
        "# Label Encoding for \"Sex\" column\n",
        "label_encoder = LabelEncoder()\n",
        "titanic_data['Sex'] = label_encoder.fit_transform(titanic_data['Sex'])"
      ],
      "metadata": {
        "id": "c7P3WGg7dKtf"
      },
      "execution_count": null,
      "outputs": []
    },
    {
      "cell_type": "markdown",
      "source": [
        "##apply function of Pandas DataFrame\n",
        "The apply function allows you to apply a function along the axis of a DataFrame or to specific columns. It's often used to apply custom functions or operations to the data.\n",
        "\n",
        "Example:\n",
        "Suppose you have a column \"Age\" and you want to create a new column \"Age_category\" based on a custom function that categorizes ages."
      ],
      "metadata": {
        "id": "MEfFpv6fe3eX"
      }
    },
    {
      "cell_type": "code",
      "source": [
        "# Sample data\n",
        "data = {'Age': [25, 30, 18, 40, 60]}\n",
        "\n",
        "# Create a DataFrame\n",
        "df = pd.DataFrame(data)\n",
        "\n",
        "# Custom function to categorize age\n",
        "def categorize_age(age):\n",
        "    if age < 18:\n",
        "        return 'Child'\n",
        "    elif age < 30:\n",
        "        return 'Young Adult'\n",
        "    elif age < 60:\n",
        "        return 'Adult'\n",
        "    else:\n",
        "        return 'Senior'\n",
        "\n",
        "# Apply the custom function to create a new column\n",
        "df['Age_category'] = df['Age'].apply(categorize_age)\n",
        "\n",
        "print(df)"
      ],
      "metadata": {
        "colab": {
          "base_uri": "https://localhost:8080/"
        },
        "id": "z-1SUwgCe9yG",
        "outputId": "c33b2a8e-58a2-43ae-b355-607bebd3c3c4"
      },
      "execution_count": 48,
      "outputs": [
        {
          "output_type": "stream",
          "name": "stdout",
          "text": [
            "   Age Age_category\n",
            "0   25  Young Adult\n",
            "1   30        Adult\n",
            "2   18  Young Adult\n",
            "3   40        Adult\n",
            "4   60       Senior\n"
          ]
        }
      ]
    },
    {
      "cell_type": "markdown",
      "source": [
        "###Lambda functions\n"
      ],
      "metadata": {
        "id": "SQolZrFZfZX1"
      }
    },
    {
      "cell_type": "markdown",
      "source": [
        "Lambda functions, also known as anonymous functions, are small and concise functions in Python that can have any number of arguments but only one expression. They are often used for short tasks where defining a full function using the def keyword might be unnecessary or less readable. Lambda functions are particularly handy when you need a simple function for a short period of time, such as for passing as an argument to higher-order functions like map, filter, or sorted.\n",
        "\n",
        "Here's the basic syntax of a lambda function:\n",
        "\n",
        "\n",
        "` lambda arguments: expression`"
      ],
      "metadata": {
        "id": "4-DPKRYDf5kF"
      }
    },
    {
      "cell_type": "code",
      "source": [
        "# df_train['Sex'] = df_train['Sex'].apply(lambda x : 1 if x == 'male' else 0)"
      ],
      "metadata": {
        "id": "pwRxIOyZdAZd"
      },
      "execution_count": null,
      "outputs": []
    },
    {
      "cell_type": "code",
      "source": [
        "from sklearn.preprocessing import StandardScaler, MinMaxScaler\n",
        "\n",
        "# Standardization for \"Age\" and \"Fare\" columns\n",
        "scaler = StandardScaler()\n",
        "titanic_data[['Age', 'Fare']] = scaler.fit_transform(titanic_data[['Age', 'Fare']])\n",
        "\n",
        "# Min-Max Scaling for \"SibSp\" and \"Parch\" columns\n",
        "minmax_scaler = MinMaxScaler()\n",
        "titanic_data[['SibSp', 'Parch']] = minmax_scaler.fit_transform(titanic_data[['SibSp', 'Parch']])\n"
      ],
      "metadata": {
        "id": "EcRBydm-f80D"
      },
      "execution_count": 49,
      "outputs": []
    },
    {
      "cell_type": "markdown",
      "source": [
        "#Feature scaling\n",
        "Feature scaling is a crucial preprocessing step in machine learning that involves transforming the numerical features of a dataset to a common scale. It ensures that all features contribute equally to the analysis and prevents any particular feature from dominating the others due to its larger magnitude. Many machine learning algorithms perform better or converge faster when features are on a similar scale."
      ],
      "metadata": {
        "id": "m8TKesDcghdP"
      }
    },
    {
      "cell_type": "markdown",
      "source": [
        "## Standardization (Z-score normalization):\n",
        "Standardization transforms the features such that they have a mean of 0 and a standard deviation of 1. It centers the data around zero, allowing the distribution to retain its shape. Standardization is suitable when the features have varying scales and the algorithm assumes that the features are normally distributed.\n",
        "\n",
        "Formula for standardization:\n",
        "\n",
        "\n",
        "```\n",
        "z = (x - μ) / σ\n",
        "Where:\n",
        "\n",
        "x is the original feature value.\n",
        "μ is the mean of the feature.\n",
        "σ is the standard deviation of the feature.\n",
        "```\n",
        "\n",
        "\n"
      ],
      "metadata": {
        "id": "PsVWB5fsguQZ"
      }
    },
    {
      "cell_type": "markdown",
      "source": [
        "\n",
        "##Min-Max Scaling (Normalization):\n",
        "Min-Max Scaling transforms the features to a specific range, usually between 0 and 1. It's useful when the distribution of the features is not necessarily Gaussian and you want to preserve the relationship between the original values. However, Min-Max Scaling might be sensitive to outliers.\n",
        "\n",
        "Formula for Min-Max Scaling:\n",
        "```\n",
        "x_scaled = (x - x_min) / (x_max - x_min)\n",
        "Where:\n",
        "\n",
        "x is the original feature value.\n",
        "x_min is the minimum value of the feature.\n",
        "x_max is the maximum value of the feature.\n",
        "```"
      ],
      "metadata": {
        "id": "WXUtIm4EhIdK"
      }
    },
    {
      "cell_type": "code",
      "source": [
        "from sklearn.preprocessing import StandardScaler, MinMaxScaler\n",
        "\n",
        "# Sample data\n",
        "data = {'Age': [25, 50, 30, 40, 60],\n",
        "        'Income': [30000, 80000, 40000, 60000, 90000]}\n",
        "\n",
        "# Create a DataFrame\n",
        "df = pd.DataFrame(data)\n",
        "\n",
        "# Standardization\n",
        "scaler = StandardScaler()\n",
        "df_standardized = scaler.fit_transform(df)\n",
        "\n",
        "# Min-Max Scaling\n",
        "minmax_scaler = MinMaxScaler()\n",
        "df_minmax_scaled = minmax_scaler.fit_transform(df)\n",
        "\n",
        "print(\"Standardized Data:\\n\", df_standardized)\n",
        "print(\"\\nMin-Max Scaled Data:\\n\", df_minmax_scaled)\n"
      ],
      "metadata": {
        "colab": {
          "base_uri": "https://localhost:8080/"
        },
        "id": "qzJZjnzXhS2N",
        "outputId": "7132c505-1994-4e45-ecee-77c44442f974"
      },
      "execution_count": 50,
      "outputs": [
        {
          "output_type": "stream",
          "name": "stdout",
          "text": [
            "Standardized Data:\n",
            " [[-1.2493901  -1.31558703]\n",
            " [ 0.70278193  0.87705802]\n",
            " [-0.85895569 -0.87705802]\n",
            " [-0.07808688  0.        ]\n",
            " [ 1.48365074  1.31558703]]\n",
            "\n",
            "Min-Max Scaled Data:\n",
            " [[0.         0.        ]\n",
            " [0.71428571 0.83333333]\n",
            " [0.14285714 0.16666667]\n",
            " [0.42857143 0.5       ]\n",
            " [1.         1.        ]]\n"
          ]
        }
      ]
    },
    {
      "cell_type": "markdown",
      "source": [
        "When to Use Feature Scaling:\n",
        "\n",
        "Feature scaling is essential for algorithms that involve distances or gradients, such as k-nearest neighbors, gradient descent-based methods, and support vector machines.\n",
        "Neural networks often benefit from feature scaling, as it helps improve convergence and speed up training.\n",
        "Algorithms that use regularization, like Ridge and Lasso regression, may perform better with scaled features.\n",
        "Note: Feature scaling should be applied after splitting your dataset into training and testing sets. It's important to fit the scaler only on the training data and then use the same scaler to transform both the training and testing data."
      ],
      "metadata": {
        "id": "T8FLXN2vhRHJ"
      }
    },
    {
      "cell_type": "markdown",
      "source": [
        "##Apply MinMaxScaler and StandardScaler on titanic dataset"
      ],
      "metadata": {
        "id": "9plgmiGhhXEj"
      }
    },
    {
      "cell_type": "code",
      "source": [
        "from sklearn.preprocessing import StandardScaler, MinMaxScaler\n",
        "\n",
        "# Standardization for \"Age\" and \"Fare\" columns\n",
        "scaler = StandardScaler()\n",
        "titanic_data[['Age', 'Fare']] = scaler.fit_transform(titanic_data[['Age', 'Fare']])\n",
        "\n",
        "# Min-Max Scaling for \"SibSp\" and \"Parch\" columns\n",
        "minmax_scaler = MinMaxScaler()\n",
        "titanic_data[['SibSp', 'Parch']] = minmax_scaler.fit_transform(titanic_data[['SibSp', 'Parch']])\n"
      ],
      "metadata": {
        "id": "rblkbIiCgD-J"
      },
      "execution_count": null,
      "outputs": []
    }
  ]
}